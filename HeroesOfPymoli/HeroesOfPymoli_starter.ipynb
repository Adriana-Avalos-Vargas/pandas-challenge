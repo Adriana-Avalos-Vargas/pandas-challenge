{
 "cells": [
  {
   "cell_type": "markdown",
   "metadata": {},
   "source": [
    "### Note\n",
    "* Instructions have been included for each segment. You do not have to follow them exactly, but they are included to help you think through the steps."
   ]
  },
  {
   "cell_type": "code",
   "execution_count": 1,
   "metadata": {},
   "outputs": [],
   "source": [
    "# Dependencies and Setup\n",
    "import pandas as pd\n",
    "\n",
    "# File to Load (Remember to Change These)\n",
    "file_to_load = \"Resources/purchase_data.csv\"\n",
    "\n",
    "# Read Purchasing File and store into Pandas data frame\n",
    "purchase_data = pd.read_csv(file_to_load)\n",
    "#purchase_data"
   ]
  },
  {
   "cell_type": "markdown",
   "metadata": {},
   "source": [
    "## Player Count"
   ]
  },
  {
   "cell_type": "markdown",
   "metadata": {},
   "source": [
    "* Display the total number of players\n"
   ]
  },
  {
   "cell_type": "code",
   "execution_count": 2,
   "metadata": {},
   "outputs": [],
   "source": [
    "total_players = len(purchase_data.SN.unique())\n",
    "#total_players"
   ]
  },
  {
   "cell_type": "code",
   "execution_count": 3,
   "metadata": {},
   "outputs": [
    {
     "data": {
      "text/html": [
       "<div>\n",
       "<style scoped>\n",
       "    .dataframe tbody tr th:only-of-type {\n",
       "        vertical-align: middle;\n",
       "    }\n",
       "\n",
       "    .dataframe tbody tr th {\n",
       "        vertical-align: top;\n",
       "    }\n",
       "\n",
       "    .dataframe thead th {\n",
       "        text-align: right;\n",
       "    }\n",
       "</style>\n",
       "<table border=\"1\" class=\"dataframe\">\n",
       "  <thead>\n",
       "    <tr style=\"text-align: right;\">\n",
       "      <th></th>\n",
       "      <th>Total Number of Players</th>\n",
       "    </tr>\n",
       "  </thead>\n",
       "  <tbody>\n",
       "    <tr>\n",
       "      <td>0</td>\n",
       "      <td>576</td>\n",
       "    </tr>\n",
       "  </tbody>\n",
       "</table>\n",
       "</div>"
      ],
      "text/plain": [
       "   Total Number of Players\n",
       "0                      576"
      ]
     },
     "execution_count": 3,
     "metadata": {},
     "output_type": "execute_result"
    }
   ],
   "source": [
    "total_players_df =  pd.DataFrame({\"Total Number of Players\": total_players}, index =[0])\n",
    "total_players_df"
   ]
  },
  {
   "cell_type": "markdown",
   "metadata": {},
   "source": [
    "# Some notes about the number of users\n",
    "\n",
    "There are 780 observations, however there are only 576 total players, which means that there are players that bought more than one item."
   ]
  },
  {
   "cell_type": "markdown",
   "metadata": {},
   "source": [
    "## Purchasing Analysis (Total)"
   ]
  },
  {
   "cell_type": "markdown",
   "metadata": {},
   "source": [
    "* Run basic calculations to obtain number of unique items, average price, etc.\n",
    "\n",
    "\n",
    "* Create a summary data frame to hold the results\n",
    "\n",
    "\n",
    "* Optional: give the displayed data cleaner formatting\n",
    "\n",
    "\n",
    "* Display the summary data frame\n"
   ]
  },
  {
   "cell_type": "code",
   "execution_count": 4,
   "metadata": {},
   "outputs": [],
   "source": [
    "Number_unique_items = len(purchase_data[\"Item Name\"].unique())\n",
    "#Number_unique_items"
   ]
  },
  {
   "cell_type": "code",
   "execution_count": 5,
   "metadata": {},
   "outputs": [],
   "source": [
    "Average_purchase_price = purchase_data.Price.mean()\n",
    "#Average_purchase_price"
   ]
  },
  {
   "cell_type": "code",
   "execution_count": 6,
   "metadata": {},
   "outputs": [],
   "source": [
    "Total_number_purchase = len(purchase_data.Price)\n",
    "#Total_number_purchase"
   ]
  },
  {
   "cell_type": "code",
   "execution_count": 7,
   "metadata": {},
   "outputs": [],
   "source": [
    "Total_Revenue = purchase_data.Price.sum()\n",
    "#Total_Revenue"
   ]
  },
  {
   "cell_type": "code",
   "execution_count": 8,
   "metadata": {},
   "outputs": [],
   "source": [
    "purchasing_analysis_total = pd.DataFrame({\"Number of Unique Items\": Number_unique_items,\n",
    "                                    \"Average Purchase Price\": Average_purchase_price,\n",
    "                                          \"Total Number of Purchases\": Total_number_purchase,\n",
    "                                          \"Total Reveneu\": Total_Revenue}, index = [0])\n",
    "#purchasing_analysis_total"
   ]
  },
  {
   "cell_type": "code",
   "execution_count": 9,
   "metadata": {},
   "outputs": [
    {
     "data": {
      "text/html": [
       "<div>\n",
       "<style scoped>\n",
       "    .dataframe tbody tr th:only-of-type {\n",
       "        vertical-align: middle;\n",
       "    }\n",
       "\n",
       "    .dataframe tbody tr th {\n",
       "        vertical-align: top;\n",
       "    }\n",
       "\n",
       "    .dataframe thead th {\n",
       "        text-align: right;\n",
       "    }\n",
       "</style>\n",
       "<table border=\"1\" class=\"dataframe\">\n",
       "  <thead>\n",
       "    <tr style=\"text-align: right;\">\n",
       "      <th></th>\n",
       "      <th>Number of Unique Items</th>\n",
       "      <th>Average Purchase Price</th>\n",
       "      <th>Total Number of Purchases</th>\n",
       "      <th>Total Reveneu</th>\n",
       "    </tr>\n",
       "  </thead>\n",
       "  <tbody>\n",
       "    <tr>\n",
       "      <td>0</td>\n",
       "      <td>179</td>\n",
       "      <td>$ 3.05</td>\n",
       "      <td>780</td>\n",
       "      <td>$ 2379.77</td>\n",
       "    </tr>\n",
       "  </tbody>\n",
       "</table>\n",
       "</div>"
      ],
      "text/plain": [
       "   Number of Unique Items Average Purchase Price  Total Number of Purchases  \\\n",
       "0                     179                 $ 3.05                        780   \n",
       "\n",
       "  Total Reveneu  \n",
       "0     $ 2379.77  "
      ]
     },
     "execution_count": 9,
     "metadata": {},
     "output_type": "execute_result"
    }
   ],
   "source": [
    "#Lets put formating in the money columns\n",
    "purchasing_analysis_total[\"Average Purchase Price\"] =  purchasing_analysis_total[\"Average Purchase Price\"].map(\"${: .2f}\".format)\n",
    "purchasing_analysis_total[\"Total Reveneu\"] =  purchasing_analysis_total[\"Total Reveneu\"].map(\"${: .2f}\".format)\n",
    "purchasing_analysis_total\n"
   ]
  },
  {
   "cell_type": "markdown",
   "metadata": {},
   "source": [
    "# Some notes about the items.\n",
    "\n",
    "There are 179 purchasable items and 780 purchases which means that each item could be bought on average at least 3 times. How ever, it is important to do a better analysis of these numbers."
   ]
  },
  {
   "cell_type": "markdown",
   "metadata": {},
   "source": [
    "## Gender Demographics"
   ]
  },
  {
   "cell_type": "markdown",
   "metadata": {},
   "source": [
    "* Percentage and Count of Male Players\n",
    "\n",
    "\n",
    "* Percentage and Count of Female Players\n",
    "\n",
    "\n",
    "* Percentage and Count of Other / Non-Disclosed\n",
    "\n",
    "\n"
   ]
  },
  {
   "cell_type": "code",
   "execution_count": 10,
   "metadata": {},
   "outputs": [],
   "source": [
    "#Sort dataframe\n",
    "prueba = purchase_data.sort_values('SN', ascending=True)\n",
    "#prueba"
   ]
  },
  {
   "cell_type": "code",
   "execution_count": 11,
   "metadata": {},
   "outputs": [],
   "source": [
    "#Drop duplicates sn\n",
    "prueba_2 = prueba.drop_duplicates(subset =\"SN\", keep='first') \n",
    "  \n",
    "# displaying data \n",
    "#prueba_2 "
   ]
  },
  {
   "cell_type": "code",
   "execution_count": 12,
   "metadata": {},
   "outputs": [],
   "source": [
    "#gROUP BY GENDER\n",
    "gender_gpby = prueba_2.groupby([\"Gender\"])\n",
    "#gender_gpby"
   ]
  },
  {
   "cell_type": "code",
   "execution_count": 13,
   "metadata": {},
   "outputs": [],
   "source": [
    "#Count how many male, female, or other make a purchase\n",
    "Gender_group = gender_gpby.count()\n",
    "#Gender_group"
   ]
  },
  {
   "cell_type": "code",
   "execution_count": 14,
   "metadata": {},
   "outputs": [],
   "source": [
    "#Transform to a percentage the last count\n",
    "Gender_group[\"Percentage\"]= (Gender_group[\"Price\"]/sum(Gender_group[\"Price\"]))*100\n",
    "#Gender_group"
   ]
  },
  {
   "cell_type": "code",
   "execution_count": 15,
   "metadata": {},
   "outputs": [],
   "source": [
    "Gender_analysis = Gender_group.reset_index()\n",
    "#Gender_analysis"
   ]
  },
  {
   "cell_type": "code",
   "execution_count": 16,
   "metadata": {},
   "outputs": [],
   "source": [
    "#Remove undesired columns\n",
    "Gender_analysis =  Gender_analysis.drop(labels=[\"Purchase ID\",\"SN\",\"Age\",\"Item ID\",\"Item Name\"], axis=1)\n",
    "#Gender_analysis"
   ]
  },
  {
   "cell_type": "code",
   "execution_count": 17,
   "metadata": {},
   "outputs": [],
   "source": [
    "#Rename columns\n",
    "Gender_analysis = Gender_analysis.rename(columns={\"Price\": \"Count\"})\n",
    "#Gender_analysis                                                  "
   ]
  },
  {
   "cell_type": "code",
   "execution_count": 18,
   "metadata": {},
   "outputs": [
    {
     "data": {
      "text/html": [
       "<div>\n",
       "<style scoped>\n",
       "    .dataframe tbody tr th:only-of-type {\n",
       "        vertical-align: middle;\n",
       "    }\n",
       "\n",
       "    .dataframe tbody tr th {\n",
       "        vertical-align: top;\n",
       "    }\n",
       "\n",
       "    .dataframe thead th {\n",
       "        text-align: right;\n",
       "    }\n",
       "</style>\n",
       "<table border=\"1\" class=\"dataframe\">\n",
       "  <thead>\n",
       "    <tr style=\"text-align: right;\">\n",
       "      <th></th>\n",
       "      <th>Gender</th>\n",
       "      <th>Count</th>\n",
       "      <th>Percentage</th>\n",
       "    </tr>\n",
       "  </thead>\n",
       "  <tbody>\n",
       "    <tr>\n",
       "      <td>0</td>\n",
       "      <td>Female</td>\n",
       "      <td>81</td>\n",
       "      <td>% 14.06</td>\n",
       "    </tr>\n",
       "    <tr>\n",
       "      <td>1</td>\n",
       "      <td>Male</td>\n",
       "      <td>484</td>\n",
       "      <td>% 84.03</td>\n",
       "    </tr>\n",
       "    <tr>\n",
       "      <td>2</td>\n",
       "      <td>Other / Non-Disclosed</td>\n",
       "      <td>11</td>\n",
       "      <td>% 1.91</td>\n",
       "    </tr>\n",
       "  </tbody>\n",
       "</table>\n",
       "</div>"
      ],
      "text/plain": [
       "                  Gender  Count Percentage\n",
       "0                 Female     81    % 14.06\n",
       "1                   Male    484    % 84.03\n",
       "2  Other / Non-Disclosed     11     % 1.91"
      ]
     },
     "execution_count": 18,
     "metadata": {},
     "output_type": "execute_result"
    }
   ],
   "source": [
    "#Lets give formating to percentage\n",
    "Gender_analysis[\"Percentage\"] = Gender_analysis[\"Percentage\"].map(\"%{: .2f}\".format)\n",
    "Gender_analysis"
   ]
  },
  {
   "cell_type": "markdown",
   "metadata": {},
   "source": [
    "# Some analysis about the section\n",
    "\n",
    "It has to be noted that the data frame is mostly composed by Male, which could mean that the game is more attractive to this gender."
   ]
  },
  {
   "cell_type": "markdown",
   "metadata": {},
   "source": [
    "\n",
    "## Purchasing Analysis (Gender)"
   ]
  },
  {
   "cell_type": "markdown",
   "metadata": {},
   "source": [
    "* Run basic calculations to obtain purchase count, avg. purchase price, avg. purchase total per person etc. by gender\n",
    "\n",
    "\n",
    "\n",
    "\n",
    "* Create a summary data frame to hold the results\n",
    "\n",
    "\n",
    "* Optional: give the displayed data cleaner formatting\n",
    "\n",
    "\n",
    "* Display the summary data frame"
   ]
  },
  {
   "cell_type": "code",
   "execution_count": 19,
   "metadata": {},
   "outputs": [],
   "source": [
    "#Lets group the complete data by gender\n",
    "new_group = purchase_data.groupby(['Gender'])\n",
    "#new_group"
   ]
  },
  {
   "cell_type": "code",
   "execution_count": 20,
   "metadata": {},
   "outputs": [],
   "source": [
    "#Lets count hou many purchases is done by Male, Female or other\n",
    "purchase_count = new_group[\"Purchase ID\"].count()\n",
    "#purchase_count"
   ]
  },
  {
   "cell_type": "code",
   "execution_count": 21,
   "metadata": {},
   "outputs": [],
   "source": [
    "#Lets get the average price per geneder\n",
    "avg_purchase_price = new_group[\"Price\"].mean()\n",
    "#avg_purchase_price"
   ]
  },
  {
   "cell_type": "code",
   "execution_count": 22,
   "metadata": {},
   "outputs": [],
   "source": [
    "#Lets get the total sum of purchases by gender\n",
    "total_purchase_value = new_group['Price'].sum()\n",
    "#total_purchase_value"
   ]
  },
  {
   "cell_type": "code",
   "execution_count": 23,
   "metadata": {},
   "outputs": [],
   "source": [
    "#Lets get the total purchase per person and gender\n",
    "purchase_total_person = total_purchase_value/gender_gpby['Price'].count()\n",
    "#purchase_total_person"
   ]
  },
  {
   "cell_type": "code",
   "execution_count": 24,
   "metadata": {},
   "outputs": [],
   "source": [
    "#Lets put all info in a df\n",
    "purchasing_analysis_gender = pd.DataFrame({\"Purchase count\": purchase_count,\n",
    "                                    \"Average purchase price\": avg_purchase_price,\n",
    "                                          \"Total purchase price\": total_purchase_value,\n",
    "                                          \"Average Purchase Total per Person by Gender\": purchase_total_person})\n",
    "#purchasing_analysis_gender.head()"
   ]
  },
  {
   "cell_type": "code",
   "execution_count": 25,
   "metadata": {},
   "outputs": [
    {
     "data": {
      "text/html": [
       "<div>\n",
       "<style scoped>\n",
       "    .dataframe tbody tr th:only-of-type {\n",
       "        vertical-align: middle;\n",
       "    }\n",
       "\n",
       "    .dataframe tbody tr th {\n",
       "        vertical-align: top;\n",
       "    }\n",
       "\n",
       "    .dataframe thead th {\n",
       "        text-align: right;\n",
       "    }\n",
       "</style>\n",
       "<table border=\"1\" class=\"dataframe\">\n",
       "  <thead>\n",
       "    <tr style=\"text-align: right;\">\n",
       "      <th></th>\n",
       "      <th>Purchase count</th>\n",
       "      <th>Average purchase price</th>\n",
       "      <th>Total purchase price</th>\n",
       "      <th>Average Purchase Total per Person by Gender</th>\n",
       "    </tr>\n",
       "    <tr>\n",
       "      <th>Gender</th>\n",
       "      <th></th>\n",
       "      <th></th>\n",
       "      <th></th>\n",
       "      <th></th>\n",
       "    </tr>\n",
       "  </thead>\n",
       "  <tbody>\n",
       "    <tr>\n",
       "      <td>Female</td>\n",
       "      <td>113</td>\n",
       "      <td>$ 3.20</td>\n",
       "      <td>$ 361.94</td>\n",
       "      <td>$ 4.47</td>\n",
       "    </tr>\n",
       "    <tr>\n",
       "      <td>Male</td>\n",
       "      <td>652</td>\n",
       "      <td>$ 3.02</td>\n",
       "      <td>$ 1967.64</td>\n",
       "      <td>$ 4.07</td>\n",
       "    </tr>\n",
       "    <tr>\n",
       "      <td>Other / Non-Disclosed</td>\n",
       "      <td>15</td>\n",
       "      <td>$ 3.35</td>\n",
       "      <td>$ 50.19</td>\n",
       "      <td>$ 4.56</td>\n",
       "    </tr>\n",
       "  </tbody>\n",
       "</table>\n",
       "</div>"
      ],
      "text/plain": [
       "                       Purchase count Average purchase price  \\\n",
       "Gender                                                         \n",
       "Female                            113                 $ 3.20   \n",
       "Male                              652                 $ 3.02   \n",
       "Other / Non-Disclosed              15                 $ 3.35   \n",
       "\n",
       "                      Total purchase price  \\\n",
       "Gender                                       \n",
       "Female                            $ 361.94   \n",
       "Male                             $ 1967.64   \n",
       "Other / Non-Disclosed              $ 50.19   \n",
       "\n",
       "                      Average Purchase Total per Person by Gender  \n",
       "Gender                                                             \n",
       "Female                                                     $ 4.47  \n",
       "Male                                                       $ 4.07  \n",
       "Other / Non-Disclosed                                      $ 4.56  "
      ]
     },
     "execution_count": 25,
     "metadata": {},
     "output_type": "execute_result"
    }
   ],
   "source": [
    "#Formating\n",
    "purchasing_analysis_gender[\"Average purchase price\"] = purchasing_analysis_gender[\"Average purchase price\"].map(\"${: .2f}\".format)\n",
    "purchasing_analysis_gender[\"Total purchase price\"] = purchasing_analysis_gender[\"Total purchase price\"].map(\"${: .2f}\".format)\n",
    "purchasing_analysis_gender[\"Average Purchase Total per Person by Gender\"] = purchasing_analysis_gender[\"Average Purchase Total per Person by Gender\"].map(\"${: .2f}\".format)\n",
    "purchasing_analysis_gender"
   ]
  },
  {
   "cell_type": "markdown",
   "metadata": {},
   "source": [
    "# Analysis of data \n",
    "\n",
    "Since we have more male players then we have more purchases from this gender. However, there the other two groups spent more money (more research required) in average."
   ]
  },
  {
   "cell_type": "markdown",
   "metadata": {},
   "source": [
    "## Age Demographics"
   ]
  },
  {
   "cell_type": "markdown",
   "metadata": {},
   "source": [
    "* Establish bins for ages\n",
    "\n",
    "\n",
    "* Categorize the existing players using the age bins. Hint: use pd.cut()\n",
    "\n",
    "\n",
    "* Calculate the numbers and percentages by age group\n",
    "\n",
    "\n",
    "* Create a summary data frame to hold the results\n",
    "\n",
    "\n",
    "* Optional: round the percentage column to two decimal points\n",
    "\n",
    "\n",
    "* Display Age Demographics Table\n"
   ]
  },
  {
   "cell_type": "code",
   "execution_count": 26,
   "metadata": {},
   "outputs": [
    {
     "name": "stdout",
     "output_type": "stream",
     "text": [
      "7 45\n"
     ]
    }
   ],
   "source": [
    "#Lets create the bins\n",
    "min_age=min(purchase_data[\"Age\"])\n",
    "max_age = max(purchase_data[\"Age\"])\n",
    "print(min_age, max_age)\n",
    "bins =[5,9.99,14.99,19.99,24.99,29.99,34.99,39.99,45]\n",
    "#print(bins)"
   ]
  },
  {
   "cell_type": "code",
   "execution_count": 27,
   "metadata": {},
   "outputs": [],
   "source": [
    "#Lets create the groups\n",
    "groups_name =[\"<10\", \"10-14\",\"15-19\", \"20-24\",\"25-29\", \"30-34\", \"35-39\", \"40+\"]\n",
    "#groups_name"
   ]
  },
  {
   "cell_type": "code",
   "execution_count": 28,
   "metadata": {},
   "outputs": [],
   "source": [
    "#Apply the division in groups over non duplicated df\n",
    "purchase_data[\"Age group\"] = pd.cut(prueba_2[\"Age\"], bins, labels=groups_name, include_lowest=True )\n",
    "#purchase_data.head()"
   ]
  },
  {
   "cell_type": "code",
   "execution_count": 29,
   "metadata": {},
   "outputs": [],
   "source": [
    "#Lets group by age group\n",
    "data_group = purchase_data.groupby([\"Age group\"])\n",
    "#data_group"
   ]
  },
  {
   "cell_type": "code",
   "execution_count": 30,
   "metadata": {},
   "outputs": [],
   "source": [
    "#Lets count how many purchases are per age ide\n",
    "Purchase_count_age = data_group.count()\n",
    "Purchase_count_age = Purchase_count_age.drop(columns=[\"SN\", \"Age\", \"Gender\", \"Item ID\", \"Item Name\", \"Price\"])\n",
    "Purchase_count_age.rename(columns={\"Purchase ID\" : \"Total Count\"}, inplace=True)\n",
    "#Purchase_count_age"
   ]
  },
  {
   "cell_type": "code",
   "execution_count": 31,
   "metadata": {},
   "outputs": [],
   "source": [
    "#Get the precentage of player per age group\n",
    "Purchase_count_age[\"Percentage of Players\"] = (Purchase_count_age[\"Total Count\"]/sum(Purchase_count_age[\"Total Count\"]))*100\n",
    "#Purchase_count_age"
   ]
  },
  {
   "cell_type": "code",
   "execution_count": 32,
   "metadata": {},
   "outputs": [
    {
     "data": {
      "text/html": [
       "<div>\n",
       "<style scoped>\n",
       "    .dataframe tbody tr th:only-of-type {\n",
       "        vertical-align: middle;\n",
       "    }\n",
       "\n",
       "    .dataframe tbody tr th {\n",
       "        vertical-align: top;\n",
       "    }\n",
       "\n",
       "    .dataframe thead th {\n",
       "        text-align: right;\n",
       "    }\n",
       "</style>\n",
       "<table border=\"1\" class=\"dataframe\">\n",
       "  <thead>\n",
       "    <tr style=\"text-align: right;\">\n",
       "      <th></th>\n",
       "      <th>Total Count</th>\n",
       "      <th>Percentage of Players</th>\n",
       "    </tr>\n",
       "    <tr>\n",
       "      <th>Age group</th>\n",
       "      <th></th>\n",
       "      <th></th>\n",
       "    </tr>\n",
       "  </thead>\n",
       "  <tbody>\n",
       "    <tr>\n",
       "      <td>&lt;10</td>\n",
       "      <td>17</td>\n",
       "      <td>% 2.95</td>\n",
       "    </tr>\n",
       "    <tr>\n",
       "      <td>10-14</td>\n",
       "      <td>22</td>\n",
       "      <td>% 3.82</td>\n",
       "    </tr>\n",
       "    <tr>\n",
       "      <td>15-19</td>\n",
       "      <td>107</td>\n",
       "      <td>% 18.58</td>\n",
       "    </tr>\n",
       "    <tr>\n",
       "      <td>20-24</td>\n",
       "      <td>258</td>\n",
       "      <td>% 44.79</td>\n",
       "    </tr>\n",
       "    <tr>\n",
       "      <td>25-29</td>\n",
       "      <td>77</td>\n",
       "      <td>% 13.37</td>\n",
       "    </tr>\n",
       "    <tr>\n",
       "      <td>30-34</td>\n",
       "      <td>52</td>\n",
       "      <td>% 9.03</td>\n",
       "    </tr>\n",
       "    <tr>\n",
       "      <td>35-39</td>\n",
       "      <td>31</td>\n",
       "      <td>% 5.38</td>\n",
       "    </tr>\n",
       "    <tr>\n",
       "      <td>40+</td>\n",
       "      <td>12</td>\n",
       "      <td>% 2.08</td>\n",
       "    </tr>\n",
       "  </tbody>\n",
       "</table>\n",
       "</div>"
      ],
      "text/plain": [
       "           Total Count Percentage of Players\n",
       "Age group                                   \n",
       "<10                 17                % 2.95\n",
       "10-14               22                % 3.82\n",
       "15-19              107               % 18.58\n",
       "20-24              258               % 44.79\n",
       "25-29               77               % 13.37\n",
       "30-34               52                % 9.03\n",
       "35-39               31                % 5.38\n",
       "40+                 12                % 2.08"
      ]
     },
     "execution_count": 32,
     "metadata": {},
     "output_type": "execute_result"
    }
   ],
   "source": [
    "#Formating\n",
    "Purchase_count_age[\"Percentage of Players\"] = Purchase_count_age[\"Percentage of Players\"].map(\"%{: .2f}\".format)\n",
    "Purchase_count_age"
   ]
  },
  {
   "cell_type": "markdown",
   "metadata": {},
   "source": [
    "# Some analysis about the data above\n",
    "\n",
    "We already know that most of the buyers are Male. In total, they spent more money than the other groups. Another interesting fact is that almos half of the players have between 20-24 years old. The age group seems to have a normal distribution with the center in the age group 20-24."
   ]
  },
  {
   "cell_type": "markdown",
   "metadata": {},
   "source": [
    "## Purchasing Analysis (Age)"
   ]
  },
  {
   "cell_type": "markdown",
   "metadata": {},
   "source": [
    "* Bin the purchase_data data frame by age\n",
    "\n",
    "\n",
    "* Run basic calculations to obtain purchase count, avg. purchase price, avg. purchase total per person etc. in the table below\n",
    "\n",
    "\n",
    "* Create a summary data frame to hold the results\n",
    "\n",
    "\n",
    "* Optional: give the displayed data cleaner formatting\n",
    "\n",
    "\n",
    "* Display the summary data frame"
   ]
  },
  {
   "cell_type": "code",
   "execution_count": 33,
   "metadata": {},
   "outputs": [],
   "source": [
    "purchase_data[\"Age group\"] = pd.cut(purchase_data[\"Age\"], bins, labels=groups_name, include_lowest=True )\n",
    "#purchase_data.head()"
   ]
  },
  {
   "cell_type": "code",
   "execution_count": 34,
   "metadata": {},
   "outputs": [],
   "source": [
    "#Group by age group the new partition (complete data)\n",
    "data_group_2 = purchase_data.groupby([\"Age group\"])\n",
    "#data_group_2"
   ]
  },
  {
   "cell_type": "code",
   "execution_count": 35,
   "metadata": {},
   "outputs": [],
   "source": [
    "#Lets count number of purchase by age group\n",
    "purchase_count_age = data_group_2[\"SN\"].count()\n",
    "\n",
    "#purchase_count_age"
   ]
  },
  {
   "cell_type": "code",
   "execution_count": 36,
   "metadata": {},
   "outputs": [],
   "source": [
    "#Lets get the average purchase count by age group\n",
    "average_purchase_c = data_group_2[\"Price\"].mean()\n",
    "#average_purchase_c"
   ]
  },
  {
   "cell_type": "code",
   "execution_count": 37,
   "metadata": {},
   "outputs": [],
   "source": [
    "#Sum the total pruchase by age\n",
    "total_purchase_c = data_group_2[\"Price\"].sum()\n",
    "#total_purchase_c"
   ]
  },
  {
   "cell_type": "code",
   "execution_count": 38,
   "metadata": {},
   "outputs": [],
   "source": [
    "#Lets get the average purchase per person in each age group\n",
    "average_p_total_person = total_purchase_c/ data_group['Price'].count()\n",
    "#average_p_total_person"
   ]
  },
  {
   "cell_type": "code",
   "execution_count": 39,
   "metadata": {},
   "outputs": [],
   "source": [
    "#Lets create a summary data frame\n",
    "age_demographics = pd.DataFrame({\"Purchase count\" : purchase_count_age, \n",
    "                                \"Average Purchase Price\" : average_purchase_c,\n",
    "                                \"Total Purchase Value\" : total_purchase_c, \n",
    "                                \"Avg Total Purchase per Person\":average_p_total_person })\n",
    "#age_demographics"
   ]
  },
  {
   "cell_type": "code",
   "execution_count": 40,
   "metadata": {},
   "outputs": [
    {
     "data": {
      "text/html": [
       "<div>\n",
       "<style scoped>\n",
       "    .dataframe tbody tr th:only-of-type {\n",
       "        vertical-align: middle;\n",
       "    }\n",
       "\n",
       "    .dataframe tbody tr th {\n",
       "        vertical-align: top;\n",
       "    }\n",
       "\n",
       "    .dataframe thead th {\n",
       "        text-align: right;\n",
       "    }\n",
       "</style>\n",
       "<table border=\"1\" class=\"dataframe\">\n",
       "  <thead>\n",
       "    <tr style=\"text-align: right;\">\n",
       "      <th></th>\n",
       "      <th>Purchase count</th>\n",
       "      <th>Average Purchase Price</th>\n",
       "      <th>Total Purchase Value</th>\n",
       "      <th>Avg Total Purchase per Person</th>\n",
       "    </tr>\n",
       "    <tr>\n",
       "      <th>Age group</th>\n",
       "      <th></th>\n",
       "      <th></th>\n",
       "      <th></th>\n",
       "      <th></th>\n",
       "    </tr>\n",
       "  </thead>\n",
       "  <tbody>\n",
       "    <tr>\n",
       "      <td>&lt;10</td>\n",
       "      <td>23</td>\n",
       "      <td>$  3.35</td>\n",
       "      <td>$  77.13</td>\n",
       "      <td>$  4.54</td>\n",
       "    </tr>\n",
       "    <tr>\n",
       "      <td>10-14</td>\n",
       "      <td>28</td>\n",
       "      <td>$  2.96</td>\n",
       "      <td>$  82.78</td>\n",
       "      <td>$  3.76</td>\n",
       "    </tr>\n",
       "    <tr>\n",
       "      <td>15-19</td>\n",
       "      <td>136</td>\n",
       "      <td>$  3.04</td>\n",
       "      <td>$  412.89</td>\n",
       "      <td>$  3.86</td>\n",
       "    </tr>\n",
       "    <tr>\n",
       "      <td>20-24</td>\n",
       "      <td>365</td>\n",
       "      <td>$  3.05</td>\n",
       "      <td>$  1114.06</td>\n",
       "      <td>$  4.32</td>\n",
       "    </tr>\n",
       "    <tr>\n",
       "      <td>25-29</td>\n",
       "      <td>101</td>\n",
       "      <td>$  2.90</td>\n",
       "      <td>$  293.00</td>\n",
       "      <td>$  3.81</td>\n",
       "    </tr>\n",
       "    <tr>\n",
       "      <td>30-34</td>\n",
       "      <td>73</td>\n",
       "      <td>$  2.93</td>\n",
       "      <td>$  214.00</td>\n",
       "      <td>$  4.12</td>\n",
       "    </tr>\n",
       "    <tr>\n",
       "      <td>35-39</td>\n",
       "      <td>41</td>\n",
       "      <td>$  3.60</td>\n",
       "      <td>$  147.67</td>\n",
       "      <td>$  4.76</td>\n",
       "    </tr>\n",
       "    <tr>\n",
       "      <td>40+</td>\n",
       "      <td>13</td>\n",
       "      <td>$  2.94</td>\n",
       "      <td>$  38.24</td>\n",
       "      <td>$  3.19</td>\n",
       "    </tr>\n",
       "  </tbody>\n",
       "</table>\n",
       "</div>"
      ],
      "text/plain": [
       "           Purchase count Average Purchase Price Total Purchase Value  \\\n",
       "Age group                                                               \n",
       "<10                    23                $  3.35             $  77.13   \n",
       "10-14                  28                $  2.96             $  82.78   \n",
       "15-19                 136                $  3.04            $  412.89   \n",
       "20-24                 365                $  3.05           $  1114.06   \n",
       "25-29                 101                $  2.90            $  293.00   \n",
       "30-34                  73                $  2.93            $  214.00   \n",
       "35-39                  41                $  3.60            $  147.67   \n",
       "40+                    13                $  2.94             $  38.24   \n",
       "\n",
       "          Avg Total Purchase per Person  \n",
       "Age group                                \n",
       "<10                             $  4.54  \n",
       "10-14                           $  3.76  \n",
       "15-19                           $  3.86  \n",
       "20-24                           $  4.32  \n",
       "25-29                           $  3.81  \n",
       "30-34                           $  4.12  \n",
       "35-39                           $  4.76  \n",
       "40+                             $  3.19  "
      ]
     },
     "execution_count": 40,
     "metadata": {},
     "output_type": "execute_result"
    }
   ],
   "source": [
    "#Formating money columns\n",
    "age_demographics[\"Average Purchase Price\"] = age_demographics[\"Average Purchase Price\"].map(\"$ {: .2f}\".format)\n",
    "age_demographics[\"Total Purchase Value\"] = age_demographics[\"Total Purchase Value\"].map(\"$ {: .2f}\".format)\n",
    "age_demographics[\"Avg Total Purchase per Person\"] = age_demographics[\"Avg Total Purchase per Person\"].map(\"$ {: .2f}\".format)\n",
    "age_demographics"
   ]
  },
  {
   "cell_type": "markdown",
   "metadata": {},
   "source": [
    "# Some highlights of data above\n",
    "\n",
    "The 20 to 24 years group is the one whose total purchase is greater. But it seems that there is no clear difference in the average purchase per group, becasuse the values are very close."
   ]
  },
  {
   "cell_type": "markdown",
   "metadata": {},
   "source": [
    "## Top Spenders"
   ]
  },
  {
   "cell_type": "markdown",
   "metadata": {},
   "source": [
    "* Run basic calculations to obtain the results in the table below\n",
    "\n",
    "\n",
    "* Create a summary data frame to hold the results\n",
    "\n",
    "\n",
    "* Sort the total purchase value column in descending order\n",
    "\n",
    "\n",
    "* Optional: give the displayed data cleaner formatting\n",
    "\n",
    "\n",
    "* Display a preview of the summary data frame\n",
    "\n"
   ]
  },
  {
   "cell_type": "code",
   "execution_count": 41,
   "metadata": {},
   "outputs": [],
   "source": [
    "# Lets group by SN which is a unique name of the player. We use the complete df\n",
    "player_gp = purchase_data.groupby([\"SN\"])\n",
    "#player_gp"
   ]
  },
  {
   "cell_type": "code",
   "execution_count": 42,
   "metadata": {},
   "outputs": [],
   "source": [
    "#Lets count the number of purchases by player\n",
    "purchase_count = player_gp[\"Price\"].count()\n",
    "#purchase_count"
   ]
  },
  {
   "cell_type": "code",
   "execution_count": 43,
   "metadata": {},
   "outputs": [],
   "source": [
    "#Lets get the average purchase\n",
    "purchase_avg = player_gp[\"Price\"].mean()\n",
    "#purchase_avg"
   ]
  },
  {
   "cell_type": "code",
   "execution_count": 44,
   "metadata": {},
   "outputs": [],
   "source": [
    "#Lets get the total purchase per player\n",
    "purchase_total = player_gp[\"Price\"].sum()\n",
    "#purchase_total"
   ]
  },
  {
   "cell_type": "code",
   "execution_count": 45,
   "metadata": {},
   "outputs": [],
   "source": [
    "#Lets create the data frame\n",
    "top_spenders = pd.DataFrame({\"Purchase Count\": purchase_count,\n",
    "                            \"Average Purchase Price\": purchase_avg,\n",
    "                            \"Total Purchase Value\" : purchase_total})\n",
    "#top_spenders"
   ]
  },
  {
   "cell_type": "code",
   "execution_count": 46,
   "metadata": {},
   "outputs": [
    {
     "data": {
      "text/html": [
       "<div>\n",
       "<style scoped>\n",
       "    .dataframe tbody tr th:only-of-type {\n",
       "        vertical-align: middle;\n",
       "    }\n",
       "\n",
       "    .dataframe tbody tr th {\n",
       "        vertical-align: top;\n",
       "    }\n",
       "\n",
       "    .dataframe thead th {\n",
       "        text-align: right;\n",
       "    }\n",
       "</style>\n",
       "<table border=\"1\" class=\"dataframe\">\n",
       "  <thead>\n",
       "    <tr style=\"text-align: right;\">\n",
       "      <th></th>\n",
       "      <th>Purchase Count</th>\n",
       "      <th>Average Purchase Price</th>\n",
       "      <th>Total Purchase Value</th>\n",
       "    </tr>\n",
       "    <tr>\n",
       "      <th>SN</th>\n",
       "      <th></th>\n",
       "      <th></th>\n",
       "      <th></th>\n",
       "    </tr>\n",
       "  </thead>\n",
       "  <tbody>\n",
       "    <tr>\n",
       "      <td>Lisosia93</td>\n",
       "      <td>5</td>\n",
       "      <td>3.792000</td>\n",
       "      <td>18.96</td>\n",
       "    </tr>\n",
       "    <tr>\n",
       "      <td>Idastidru52</td>\n",
       "      <td>4</td>\n",
       "      <td>3.862500</td>\n",
       "      <td>15.45</td>\n",
       "    </tr>\n",
       "    <tr>\n",
       "      <td>Chamjask73</td>\n",
       "      <td>3</td>\n",
       "      <td>4.610000</td>\n",
       "      <td>13.83</td>\n",
       "    </tr>\n",
       "    <tr>\n",
       "      <td>Iral74</td>\n",
       "      <td>4</td>\n",
       "      <td>3.405000</td>\n",
       "      <td>13.62</td>\n",
       "    </tr>\n",
       "    <tr>\n",
       "      <td>Iskadarya95</td>\n",
       "      <td>3</td>\n",
       "      <td>4.366667</td>\n",
       "      <td>13.10</td>\n",
       "    </tr>\n",
       "    <tr>\n",
       "      <td>...</td>\n",
       "      <td>...</td>\n",
       "      <td>...</td>\n",
       "      <td>...</td>\n",
       "    </tr>\n",
       "    <tr>\n",
       "      <td>Ililsasya43</td>\n",
       "      <td>1</td>\n",
       "      <td>1.020000</td>\n",
       "      <td>1.02</td>\n",
       "    </tr>\n",
       "    <tr>\n",
       "      <td>Irilis75</td>\n",
       "      <td>1</td>\n",
       "      <td>1.020000</td>\n",
       "      <td>1.02</td>\n",
       "    </tr>\n",
       "    <tr>\n",
       "      <td>Aidai61</td>\n",
       "      <td>1</td>\n",
       "      <td>1.010000</td>\n",
       "      <td>1.01</td>\n",
       "    </tr>\n",
       "    <tr>\n",
       "      <td>Chanirra79</td>\n",
       "      <td>1</td>\n",
       "      <td>1.010000</td>\n",
       "      <td>1.01</td>\n",
       "    </tr>\n",
       "    <tr>\n",
       "      <td>Alo38</td>\n",
       "      <td>1</td>\n",
       "      <td>1.000000</td>\n",
       "      <td>1.00</td>\n",
       "    </tr>\n",
       "  </tbody>\n",
       "</table>\n",
       "<p>576 rows × 3 columns</p>\n",
       "</div>"
      ],
      "text/plain": [
       "             Purchase Count  Average Purchase Price  Total Purchase Value\n",
       "SN                                                                       \n",
       "Lisosia93                 5                3.792000                 18.96\n",
       "Idastidru52               4                3.862500                 15.45\n",
       "Chamjask73                3                4.610000                 13.83\n",
       "Iral74                    4                3.405000                 13.62\n",
       "Iskadarya95               3                4.366667                 13.10\n",
       "...                     ...                     ...                   ...\n",
       "Ililsasya43               1                1.020000                  1.02\n",
       "Irilis75                  1                1.020000                  1.02\n",
       "Aidai61                   1                1.010000                  1.01\n",
       "Chanirra79                1                1.010000                  1.01\n",
       "Alo38                     1                1.000000                  1.00\n",
       "\n",
       "[576 rows x 3 columns]"
      ]
     },
     "execution_count": 46,
     "metadata": {},
     "output_type": "execute_result"
    }
   ],
   "source": [
    "#Lets sort by the highest total purchase value\n",
    "top_spenders.sort_values('Total Purchase Value', ascending=False, inplace=True)\n",
    "top_spenders\n"
   ]
  },
  {
   "cell_type": "code",
   "execution_count": 47,
   "metadata": {},
   "outputs": [],
   "source": [
    "#Format money columns\n",
    "top_spenders[\"Average Purchase Price\"] = top_spenders[\"Average Purchase Price\"].map(\"$ {: .2f}\".format)\n",
    "top_spenders[\"Total Purchase Value\"] = top_spenders[\"Total Purchase Value\"].map(\"$ {: .2f}\".format)\n",
    "#top_spenders\n"
   ]
  },
  {
   "cell_type": "code",
   "execution_count": 48,
   "metadata": {},
   "outputs": [
    {
     "data": {
      "text/html": [
       "<div>\n",
       "<style scoped>\n",
       "    .dataframe tbody tr th:only-of-type {\n",
       "        vertical-align: middle;\n",
       "    }\n",
       "\n",
       "    .dataframe tbody tr th {\n",
       "        vertical-align: top;\n",
       "    }\n",
       "\n",
       "    .dataframe thead th {\n",
       "        text-align: right;\n",
       "    }\n",
       "</style>\n",
       "<table border=\"1\" class=\"dataframe\">\n",
       "  <thead>\n",
       "    <tr style=\"text-align: right;\">\n",
       "      <th></th>\n",
       "      <th>Purchase Count</th>\n",
       "      <th>Average Purchase Price</th>\n",
       "      <th>Total Purchase Value</th>\n",
       "    </tr>\n",
       "    <tr>\n",
       "      <th>SN</th>\n",
       "      <th></th>\n",
       "      <th></th>\n",
       "      <th></th>\n",
       "    </tr>\n",
       "  </thead>\n",
       "  <tbody>\n",
       "    <tr>\n",
       "      <td>Lisosia93</td>\n",
       "      <td>5</td>\n",
       "      <td>$  3.79</td>\n",
       "      <td>$  18.96</td>\n",
       "    </tr>\n",
       "    <tr>\n",
       "      <td>Idastidru52</td>\n",
       "      <td>4</td>\n",
       "      <td>$  3.86</td>\n",
       "      <td>$  15.45</td>\n",
       "    </tr>\n",
       "    <tr>\n",
       "      <td>Chamjask73</td>\n",
       "      <td>3</td>\n",
       "      <td>$  4.61</td>\n",
       "      <td>$  13.83</td>\n",
       "    </tr>\n",
       "    <tr>\n",
       "      <td>Iral74</td>\n",
       "      <td>4</td>\n",
       "      <td>$  3.40</td>\n",
       "      <td>$  13.62</td>\n",
       "    </tr>\n",
       "    <tr>\n",
       "      <td>Iskadarya95</td>\n",
       "      <td>3</td>\n",
       "      <td>$  4.37</td>\n",
       "      <td>$  13.10</td>\n",
       "    </tr>\n",
       "  </tbody>\n",
       "</table>\n",
       "</div>"
      ],
      "text/plain": [
       "             Purchase Count Average Purchase Price Total Purchase Value\n",
       "SN                                                                     \n",
       "Lisosia93                 5                $  3.79             $  18.96\n",
       "Idastidru52               4                $  3.86             $  15.45\n",
       "Chamjask73                3                $  4.61             $  13.83\n",
       "Iral74                    4                $  3.40             $  13.62\n",
       "Iskadarya95               3                $  4.37             $  13.10"
      ]
     },
     "execution_count": 48,
     "metadata": {},
     "output_type": "execute_result"
    }
   ],
   "source": [
    "#Kepp the top 5\n",
    "top_spenders_5 = top_spenders.iloc[0:5]\n",
    "top_spenders_5"
   ]
  },
  {
   "cell_type": "markdown",
   "metadata": {},
   "source": [
    "## Most Popular Items"
   ]
  },
  {
   "cell_type": "markdown",
   "metadata": {},
   "source": [
    "* Retrieve the Item ID, Item Name, and Item Price columns\n",
    "\n",
    "\n",
    "* Group by Item ID and Item Name. Perform calculations to obtain purchase count, item price, and total purchase value\n",
    "\n",
    "\n",
    "* Create a summary data frame to hold the results\n",
    "\n",
    "\n",
    "* Sort the purchase count column in descending order\n",
    "\n",
    "\n",
    "* Optional: give the displayed data cleaner formatting\n",
    "\n",
    "\n",
    "* Display a preview of the summary data frame\n",
    "\n"
   ]
  },
  {
   "cell_type": "code",
   "execution_count": 49,
   "metadata": {},
   "outputs": [],
   "source": [
    "# Lets group by Item ID and Item Name which are a unique name for selled Item. We use the complete df\n",
    "item_gp = purchase_data.groupby([\"Item ID\", \"Item Name\"])\n",
    "#item_gp"
   ]
  },
  {
   "cell_type": "code",
   "execution_count": 50,
   "metadata": {},
   "outputs": [],
   "source": [
    "#Lets get the count of how many itmes where bought by id\n",
    "purchase_count = item_gp[\"Price\"].count()\n",
    "#purchase_count"
   ]
  },
  {
   "cell_type": "code",
   "execution_count": 51,
   "metadata": {},
   "outputs": [],
   "source": [
    "#Lets get the item price\n",
    "item_price = item_gp[\"Price\"].mean()\n",
    "#item_price"
   ]
  },
  {
   "cell_type": "code",
   "execution_count": 52,
   "metadata": {},
   "outputs": [],
   "source": [
    "#Lets get the total purchase value\n",
    "total_pv = item_gp[\"Price\"].sum()\n",
    "#total_pv"
   ]
  },
  {
   "cell_type": "code",
   "execution_count": 53,
   "metadata": {},
   "outputs": [],
   "source": [
    "#Lets create the data frame\n",
    "popular_item = pd.DataFrame({\"Purchase Count\": purchase_count,\n",
    "                            \"Item Price\" : item_price,\n",
    "                            \"Total Purchase Value\" : total_pv})\n",
    "#popular_item"
   ]
  },
  {
   "cell_type": "code",
   "execution_count": 54,
   "metadata": {},
   "outputs": [],
   "source": [
    "#Lest order the data frame in descending order to identify the most popular\n",
    "popular_itemo = popular_item\n",
    "popular_itemo.sort_values(['Purchase Count'], ascending = False, inplace=True)\n",
    "#popular_itemo"
   ]
  },
  {
   "cell_type": "code",
   "execution_count": 55,
   "metadata": {},
   "outputs": [],
   "source": [
    "#Formating columns of money\n",
    "popular_itemo[\"Item Price\"] = popular_itemo[\"Item Price\"].map(\"${: .2f}\".format)\n",
    "popular_itemo[\"Total Purchase Value\"] = popular_itemo[\"Total Purchase Value\"].map(\"${: .2f}\".format)\n",
    "#popular_itemo"
   ]
  },
  {
   "cell_type": "code",
   "execution_count": 56,
   "metadata": {},
   "outputs": [
    {
     "data": {
      "text/html": [
       "<div>\n",
       "<style scoped>\n",
       "    .dataframe tbody tr th:only-of-type {\n",
       "        vertical-align: middle;\n",
       "    }\n",
       "\n",
       "    .dataframe tbody tr th {\n",
       "        vertical-align: top;\n",
       "    }\n",
       "\n",
       "    .dataframe thead th {\n",
       "        text-align: right;\n",
       "    }\n",
       "</style>\n",
       "<table border=\"1\" class=\"dataframe\">\n",
       "  <thead>\n",
       "    <tr style=\"text-align: right;\">\n",
       "      <th></th>\n",
       "      <th></th>\n",
       "      <th>Purchase Count</th>\n",
       "      <th>Item Price</th>\n",
       "      <th>Total Purchase Value</th>\n",
       "    </tr>\n",
       "    <tr>\n",
       "      <th>Item ID</th>\n",
       "      <th>Item Name</th>\n",
       "      <th></th>\n",
       "      <th></th>\n",
       "      <th></th>\n",
       "    </tr>\n",
       "  </thead>\n",
       "  <tbody>\n",
       "    <tr>\n",
       "      <td>92</td>\n",
       "      <td>Final Critic</td>\n",
       "      <td>13</td>\n",
       "      <td>$ 4.61</td>\n",
       "      <td>$ 59.99</td>\n",
       "    </tr>\n",
       "    <tr>\n",
       "      <td>178</td>\n",
       "      <td>Oathbreaker, Last Hope of the Breaking Storm</td>\n",
       "      <td>12</td>\n",
       "      <td>$ 4.23</td>\n",
       "      <td>$ 50.76</td>\n",
       "    </tr>\n",
       "    <tr>\n",
       "      <td>145</td>\n",
       "      <td>Fiery Glass Crusader</td>\n",
       "      <td>9</td>\n",
       "      <td>$ 4.58</td>\n",
       "      <td>$ 41.22</td>\n",
       "    </tr>\n",
       "    <tr>\n",
       "      <td>132</td>\n",
       "      <td>Persuasion</td>\n",
       "      <td>9</td>\n",
       "      <td>$ 3.22</td>\n",
       "      <td>$ 28.99</td>\n",
       "    </tr>\n",
       "    <tr>\n",
       "      <td>108</td>\n",
       "      <td>Extraction, Quickblade Of Trembling Hands</td>\n",
       "      <td>9</td>\n",
       "      <td>$ 3.53</td>\n",
       "      <td>$ 31.77</td>\n",
       "    </tr>\n",
       "  </tbody>\n",
       "</table>\n",
       "</div>"
      ],
      "text/plain": [
       "                                                      Purchase Count  \\\n",
       "Item ID Item Name                                                      \n",
       "92      Final Critic                                              13   \n",
       "178     Oathbreaker, Last Hope of the Breaking Storm              12   \n",
       "145     Fiery Glass Crusader                                       9   \n",
       "132     Persuasion                                                 9   \n",
       "108     Extraction, Quickblade Of Trembling Hands                  9   \n",
       "\n",
       "                                                     Item Price  \\\n",
       "Item ID Item Name                                                 \n",
       "92      Final Critic                                     $ 4.61   \n",
       "178     Oathbreaker, Last Hope of the Breaking Storm     $ 4.23   \n",
       "145     Fiery Glass Crusader                             $ 4.58   \n",
       "132     Persuasion                                       $ 3.22   \n",
       "108     Extraction, Quickblade Of Trembling Hands        $ 3.53   \n",
       "\n",
       "                                                     Total Purchase Value  \n",
       "Item ID Item Name                                                          \n",
       "92      Final Critic                                              $ 59.99  \n",
       "178     Oathbreaker, Last Hope of the Breaking Storm              $ 50.76  \n",
       "145     Fiery Glass Crusader                                      $ 41.22  \n",
       "132     Persuasion                                                $ 28.99  \n",
       "108     Extraction, Quickblade Of Trembling Hands                 $ 31.77  "
      ]
     },
     "execution_count": 56,
     "metadata": {},
     "output_type": "execute_result"
    }
   ],
   "source": [
    "#Keep the top 5\n",
    "popular_item_5 = popular_itemo.iloc[0:5]\n",
    "popular_item_5"
   ]
  },
  {
   "cell_type": "markdown",
   "metadata": {},
   "source": [
    "# Analizyng above data\n",
    "\n",
    "It seems that the most popular items have an averge price of 4 dollars. Perhaps, this is the price with which players feel comfortable to acquire items."
   ]
  },
  {
   "cell_type": "markdown",
   "metadata": {},
   "source": [
    "## Most Profitable Items"
   ]
  },
  {
   "cell_type": "markdown",
   "metadata": {},
   "source": [
    "* Sort the above table by total purchase value in descending order\n",
    "\n",
    "\n",
    "* Optional: give the displayed data cleaner formatting\n",
    "\n",
    "\n",
    "* Display a preview of the data frame\n",
    "\n"
   ]
  },
  {
   "cell_type": "code",
   "execution_count": 57,
   "metadata": {
    "scrolled": true
   },
   "outputs": [],
   "source": [
    "#Lets create the data frame\n",
    "profitable_item= pd.DataFrame({\"Purchase Count\": purchase_count,\n",
    "                            \"Item Price\" : item_price,\n",
    "                            \"Total Purchase Value\" : total_pv})\n",
    "#profitable_item"
   ]
  },
  {
   "cell_type": "code",
   "execution_count": 58,
   "metadata": {},
   "outputs": [],
   "source": [
    "#Lets format columns again\n",
    "profitable_item.sort_values('Total Purchase Value', ascending = False, inplace = True)\n",
    "#profitable_item\n"
   ]
  },
  {
   "cell_type": "code",
   "execution_count": 59,
   "metadata": {},
   "outputs": [],
   "source": [
    "#Formating columns of money\n",
    "profitable_item[\"Item Price\"] = profitable_item[\"Item Price\"].map(\"${: .2f}\".format)\n",
    "profitable_item[\"Total Purchase Value\"] = profitable_item[\"Total Purchase Value\"].map(\"${: .2f}\".format)\n",
    "#profitable_item"
   ]
  },
  {
   "cell_type": "code",
   "execution_count": 60,
   "metadata": {},
   "outputs": [
    {
     "data": {
      "text/html": [
       "<div>\n",
       "<style scoped>\n",
       "    .dataframe tbody tr th:only-of-type {\n",
       "        vertical-align: middle;\n",
       "    }\n",
       "\n",
       "    .dataframe tbody tr th {\n",
       "        vertical-align: top;\n",
       "    }\n",
       "\n",
       "    .dataframe thead th {\n",
       "        text-align: right;\n",
       "    }\n",
       "</style>\n",
       "<table border=\"1\" class=\"dataframe\">\n",
       "  <thead>\n",
       "    <tr style=\"text-align: right;\">\n",
       "      <th></th>\n",
       "      <th></th>\n",
       "      <th>Purchase Count</th>\n",
       "      <th>Item Price</th>\n",
       "      <th>Total Purchase Value</th>\n",
       "    </tr>\n",
       "    <tr>\n",
       "      <th>Item ID</th>\n",
       "      <th>Item Name</th>\n",
       "      <th></th>\n",
       "      <th></th>\n",
       "      <th></th>\n",
       "    </tr>\n",
       "  </thead>\n",
       "  <tbody>\n",
       "    <tr>\n",
       "      <td>92</td>\n",
       "      <td>Final Critic</td>\n",
       "      <td>13</td>\n",
       "      <td>$ 4.61</td>\n",
       "      <td>$ 59.99</td>\n",
       "    </tr>\n",
       "    <tr>\n",
       "      <td>178</td>\n",
       "      <td>Oathbreaker, Last Hope of the Breaking Storm</td>\n",
       "      <td>12</td>\n",
       "      <td>$ 4.23</td>\n",
       "      <td>$ 50.76</td>\n",
       "    </tr>\n",
       "    <tr>\n",
       "      <td>82</td>\n",
       "      <td>Nirvana</td>\n",
       "      <td>9</td>\n",
       "      <td>$ 4.90</td>\n",
       "      <td>$ 44.10</td>\n",
       "    </tr>\n",
       "    <tr>\n",
       "      <td>145</td>\n",
       "      <td>Fiery Glass Crusader</td>\n",
       "      <td>9</td>\n",
       "      <td>$ 4.58</td>\n",
       "      <td>$ 41.22</td>\n",
       "    </tr>\n",
       "    <tr>\n",
       "      <td>103</td>\n",
       "      <td>Singed Scalpel</td>\n",
       "      <td>8</td>\n",
       "      <td>$ 4.35</td>\n",
       "      <td>$ 34.80</td>\n",
       "    </tr>\n",
       "  </tbody>\n",
       "</table>\n",
       "</div>"
      ],
      "text/plain": [
       "                                                      Purchase Count  \\\n",
       "Item ID Item Name                                                      \n",
       "92      Final Critic                                              13   \n",
       "178     Oathbreaker, Last Hope of the Breaking Storm              12   \n",
       "82      Nirvana                                                    9   \n",
       "145     Fiery Glass Crusader                                       9   \n",
       "103     Singed Scalpel                                             8   \n",
       "\n",
       "                                                     Item Price  \\\n",
       "Item ID Item Name                                                 \n",
       "92      Final Critic                                     $ 4.61   \n",
       "178     Oathbreaker, Last Hope of the Breaking Storm     $ 4.23   \n",
       "82      Nirvana                                          $ 4.90   \n",
       "145     Fiery Glass Crusader                             $ 4.58   \n",
       "103     Singed Scalpel                                   $ 4.35   \n",
       "\n",
       "                                                     Total Purchase Value  \n",
       "Item ID Item Name                                                          \n",
       "92      Final Critic                                              $ 59.99  \n",
       "178     Oathbreaker, Last Hope of the Breaking Storm              $ 50.76  \n",
       "82      Nirvana                                                   $ 44.10  \n",
       "145     Fiery Glass Crusader                                      $ 41.22  \n",
       "103     Singed Scalpel                                            $ 34.80  "
      ]
     },
     "execution_count": 60,
     "metadata": {},
     "output_type": "execute_result"
    }
   ],
   "source": [
    "#Keep the top 5\n",
    "profitable_item_5 = profitable_item.iloc[0:5]\n",
    "profitable_item_5"
   ]
  },
  {
   "cell_type": "markdown",
   "metadata": {},
   "source": [
    "# Analyzing above data\n",
    "\n",
    "The trend in this data seems to confirm that 4 dollars in average is the money that players are willing to spent in each item."
   ]
  },
  {
   "cell_type": "code",
   "execution_count": null,
   "metadata": {},
   "outputs": [],
   "source": []
  }
 ],
 "metadata": {
  "anaconda-cloud": {},
  "kernel_info": {
   "name": "python3"
  },
  "kernelspec": {
   "display_name": "Python 3",
   "language": "python",
   "name": "python3"
  },
  "language_info": {
   "codemirror_mode": {
    "name": "ipython",
    "version": 3
   },
   "file_extension": ".py",
   "mimetype": "text/x-python",
   "name": "python",
   "nbconvert_exporter": "python",
   "pygments_lexer": "ipython3",
   "version": "3.7.4"
  },
  "latex_envs": {
   "LaTeX_envs_menu_present": true,
   "autoclose": false,
   "autocomplete": true,
   "bibliofile": "biblio.bib",
   "cite_by": "apalike",
   "current_citInitial": 1,
   "eqLabelWithNumbers": true,
   "eqNumInitial": 1,
   "hotkeys": {
    "equation": "Ctrl-E",
    "itemize": "Ctrl-I"
   },
   "labels_anchors": false,
   "latex_user_defs": false,
   "report_style_numbering": false,
   "user_envs_cfg": false
  },
  "nteract": {
   "version": "0.2.0"
  }
 },
 "nbformat": 4,
 "nbformat_minor": 2
}
